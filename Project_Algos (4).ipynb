{
 "cells": [
  {
   "cell_type": "code",
   "execution_count": 27,
   "id": "7bd932a3-ce20-4ee5-b8d9-f727b1024009",
   "metadata": {},
   "outputs": [
    {
     "name": "stdin",
     "output_type": "stream",
     "text": [
      "Введите количество вершин: 7\n",
      "Введите название города 1: Москва\n",
      "Введите название города 2: Бишкек\n",
      "Введите название города 3: Киев\n",
      "Введите название города 4: Берлин\n",
      "Введите название города 5: Париж\n",
      "Введите название города 6: Вашингтон\n",
      "Введите название города 7: Ташкент\n"
     ]
    },
    {
     "name": "stdout",
     "output_type": "stream",
     "text": [
      "Введите граф в ввиде матрицы смежности(Уточнение:первое то что вы будете ввести это будет расстояние до первого города,а второе расстояние до второго и так аналогично).Расстояние можете ввести реальные(в километрах):\n"
     ]
    },
    {
     "name": "stdin",
     "output_type": "stream",
     "text": [
      "Введите строку 1: 0 1 7 6 0 0 0\n",
      "Введите строку 2: 1 0 9 0 0 3 0\n",
      "Введите строку 3: 7 9 0 0 0 0 1\n",
      "Введите строку 4: 6 0 0 0 2 0 0\n",
      "Введите строку 5: 0 0 0 2 0 0 0\n",
      "Введите строку 6: 0 3 0 0 0 0 3\n",
      "Введите строку 7: 0 0 0 0 5 3 0\n",
      "Из скольких городов вы хотите узнать кратчайшие пути ко всем остальным? 5\n",
      "Введите город из которого нужно вывести кратчайшие пути до всех остальных: Бишкек\n"
     ]
    },
    {
     "name": "stdout",
     "output_type": "stream",
     "text": [
      "\n",
      "Кратчайшие пути из города Бишкек:\n",
      "Расстояние:0 км, Путь: Бишкек\n",
      "Расстояние:1 км, Путь: Бишкек -> Москва\n",
      "Расстояние:3 км, Путь: Бишкек -> Вашингтон\n",
      "Расстояние:6 км, Путь: Бишкек -> Вашингтон -> Ташкент\n",
      "Расстояние:7 км, Путь: Бишкек -> Москва -> Берлин\n",
      "Расстояние:8 км, Путь: Бишкек -> Москва -> Киев\n",
      "Расстояние:9 км, Путь: Бишкек -> Москва -> Берлин -> Париж\n"
     ]
    },
    {
     "name": "stdin",
     "output_type": "stream",
     "text": [
      "Введите город из которого нужно вывести кратчайшие пути до всех остальных: Киев\n"
     ]
    },
    {
     "name": "stdout",
     "output_type": "stream",
     "text": [
      "\n",
      "Кратчайшие пути из города Киев:\n",
      "Расстояние:0 км, Путь: Киев\n",
      "Расстояние:1 км, Путь: Киев -> Ташкент\n",
      "Расстояние:4 км, Путь: Киев -> Ташкент -> Вашингтон\n",
      "Расстояние:6 км, Путь: Киев -> Ташкент -> Париж\n",
      "Расстояние:7 км, Путь: Киев -> Москва\n",
      "Расстояние:7 км, Путь: Киев -> Ташкент -> Вашингтон -> Бишкек\n",
      "Расстояние:8 км, Путь: Киев -> Ташкент -> Париж -> Берлин\n"
     ]
    },
    {
     "name": "stdin",
     "output_type": "stream",
     "text": [
      "Введите город из которого нужно вывести кратчайшие пути до всех остальных: Берлин\n"
     ]
    },
    {
     "name": "stdout",
     "output_type": "stream",
     "text": [
      "\n",
      "Кратчайшие пути из города Берлин:\n",
      "Расстояние:0 км, Путь: Берлин\n",
      "Расстояние:2 км, Путь: Берлин -> Париж\n",
      "Расстояние:6 км, Путь: Берлин -> Москва\n",
      "Расстояние:7 км, Путь: Берлин -> Москва -> Бишкек\n",
      "Расстояние:10 км, Путь: Берлин -> Москва -> Бишкек -> Вашингтон\n",
      "Расстояние:13 км, Путь: Берлин -> Москва -> Киев\n",
      "Расстояние:13 км, Путь: Берлин -> Москва -> Бишкек -> Вашингтон -> Ташкент\n"
     ]
    },
    {
     "name": "stdin",
     "output_type": "stream",
     "text": [
      "Введите город из которого нужно вывести кратчайшие пути до всех остальных: Париж\n"
     ]
    },
    {
     "name": "stdout",
     "output_type": "stream",
     "text": [
      "\n",
      "Кратчайшие пути из города Париж:\n",
      "Расстояние:0 км, Путь: Париж\n",
      "Расстояние:2 км, Путь: Париж -> Берлин\n",
      "Расстояние:8 км, Путь: Париж -> Берлин -> Москва\n",
      "Расстояние:9 км, Путь: Париж -> Берлин -> Москва -> Бишкек\n",
      "Расстояние:12 км, Путь: Париж -> Берлин -> Москва -> Бишкек -> Вашингтон\n",
      "Расстояние:15 км, Путь: Париж -> Берлин -> Москва -> Киев\n",
      "Расстояние:15 км, Путь: Париж -> Берлин -> Москва -> Бишкек -> Вашингтон -> Ташкент\n"
     ]
    },
    {
     "name": "stdin",
     "output_type": "stream",
     "text": [
      "Введите город из которого нужно вывести кратчайшие пути до всех остальных: Вашингтон\n"
     ]
    },
    {
     "name": "stdout",
     "output_type": "stream",
     "text": [
      "\n",
      "Кратчайшие пути из города Вашингтон:\n",
      "Расстояние:0 км, Путь: Вашингтон\n",
      "Расстояние:3 км, Путь: Вашингтон -> Бишкек\n",
      "Расстояние:3 км, Путь: Вашингтон -> Ташкент\n",
      "Расстояние:4 км, Путь: Вашингтон -> Бишкек -> Москва\n",
      "Расстояние:8 км, Путь: Вашингтон -> Ташкент -> Париж\n",
      "Расстояние:10 км, Путь: Вашингтон -> Бишкек -> Москва -> Берлин\n",
      "Расстояние:11 км, Путь: Вашингтон -> Бишкек -> Москва -> Киев\n"
     ]
    },
    {
     "name": "stdin",
     "output_type": "stream",
     "text": [
      "Введите начальный город, из которого хотите попасть в другой город:  Москва\n",
      "Введите город,куда хотите попасть:  Ташкент\n"
     ]
    },
    {
     "name": "stdout",
     "output_type": "stream",
     "text": [
      "Кратчайший путь от Москва до Ташкент: Москва -> Бишкек -> Вашингтон -> Ташкент\n",
      "Длина пути: 7 км\n"
     ]
    }
   ],
   "source": [
    "import heapq\n",
    "\n",
    "n = int(input(\"Введите количество вершин:\"))\n",
    "\n",
    "def min_dlina(d, visited):\n",
    "    minv = float('inf')\n",
    "    mini = None\n",
    "    for i in range(n):\n",
    "        if not visited[i] and d[i]<= minv:\n",
    "            minv = d[i]\n",
    "            mini= i\n",
    "    return mini\n",
    "def dijkstra(graph, start, end=None, city=None):\n",
    "    dlina =[float('inf')]*n\n",
    "    pre = [-1] * n\n",
    "    dlina[start]= 0\n",
    "    queue = [(0, start)]\n",
    "    while queue:\n",
    "        path_l,cur = heapq.heappop(queue)\n",
    "        if path_l>dlina[cur]:\n",
    "            continue\n",
    "        for i in range(n):\n",
    "            if graph[cur][i]>0:\n",
    "                rast = path_l+ graph[cur][i]\n",
    "                if rast <dlina[i]:\n",
    "                    dlina[i]=rast\n",
    "                    pre[i] = cur\n",
    "                    heapq.heappush(queue, (rast, i))\n",
    "    if end is not None:\n",
    "        path =[]\n",
    "        nast=end\n",
    "        while nast!=-1:\n",
    "            path.append(nast)\n",
    "            nast= pre[nast]\n",
    "        path.reverse()\n",
    "        if dlina[end]==float('inf'):\n",
    "            return None, None\n",
    "        nazvaniye=[]\n",
    "        if city:\n",
    "            for i in path:\n",
    "                nazvaniye.append(city[i])\n",
    "        return nazvaniye, dlina[end]\n",
    "    \n",
    "    paths =[]\n",
    "    for i in range(n):\n",
    "        path =[]\n",
    "        nast= i\n",
    "        while nast!=-1:\n",
    "            path.append(nast + 1)\n",
    "            nast =pre[nast]\n",
    "        paths.append((dlina[i],list(reversed(path))))\n",
    "    for i in range(len(paths)):\n",
    "        for j in range(i + 1,len(paths)):\n",
    "            if paths[i][0]>paths[j][0]:\n",
    "                paths[i], paths[j] = paths[j], paths[i]\n",
    "    return paths\n",
    "    \n",
    "city = [input(f\"Введите название города {i + 1}:\")for i in range(n)]\n",
    "print(\"Введите граф в ввиде матрицы смежности(Уточнение:первое то что вы будете ввести это будет расстояние до первого города,а второе расстояние до второго и так аналогично).Расстояние можете ввести реальные(в километрах):\")\n",
    "graph=[]\n",
    "for i in range(n):\n",
    "    r = list(map(int, input(f\"Введите строку {i + 1}:\").split()))\n",
    "    if len(r) != n:\n",
    "        print(\"Ошибка: строка должна содержать\", n,\"чисел\")\n",
    "        break\n",
    "    graph.append(r)\n",
    "else:\n",
    "    ncity = int(input(\"Из скольких городов вы хотите узнать кратчайшие пути ко всем остальным?\"))\n",
    "    if ncity<1 or ncity>n:\n",
    "        print(\"Ошибка,некорректное количество городов\")\n",
    "    else:\n",
    "        for i in range(ncity):\n",
    "            icity =input(\"Введите город из которого нужно вывести кратчайшие пути до всех остальных:\")\n",
    "            if icity not in city:\n",
    "                print(\"Ошибка, выбранный город отсутствует в списке городов\")\n",
    "            else:\n",
    "                с=city.index(icity)\n",
    "                print(f\"\\nКратчайшие пути из города {icity}:\")\n",
    "                short= dijkstra(graph, с)\n",
    "                for i, j in short:\n",
    "                    print(f\"Расстояние:{i} км, Путь: {' -> '.join(map(str, [city[k - 1] for k in j]))}\")\n",
    "\n",
    "    icity = input(\"Введите начальный город, из которого хотите попасть в другой город: \")\n",
    "    fcity = input(\"Введите город,куда хотите попасть: \")\n",
    "    if icity not in city or fcity not in city:\n",
    "        print(\"Ошибка,один или оба города отсутствуют в списке городов\")\n",
    "    else:\n",
    "        inds=city.index(icity)\n",
    "        find =city.index(fcity)\n",
    "        path, path_l = dijkstra(graph, inds, find, city)\n",
    "        if path:\n",
    "            print(f\"Кратчайший путь от {icity} до {fcity}: {' -> '.join(path)}\")\n",
    "            print(f\"Длина пути: {path_l} км\")\n",
    "        else:\n",
    "            print(f\"Маршрут от {icity} до {fcity} отсутствует\")"
   ]
  },
  {
   "cell_type": "code",
   "execution_count": null,
   "id": "32ad742d-8033-4ec3-bf0c-0803925e57bc",
   "metadata": {},
   "outputs": [],
   "source": [
    "graph = [\n",
    "  0 1 7 6 0 0 0\n",
    "  1 0 9 0 0 3 0\n",
    "  7 9 0 0 0 0 1\n",
    "  6 0 0 0 2 0 0\n",
    "  0 0 0 2 0 0 0\n",
    "  0 3 0 0 0 0 3\n",
    "  0 0 0 0 5 3 0\n",
    "]"
   ]
  },
  {
   "cell_type": "code",
   "execution_count": null,
   "id": "1ca68632-f0cc-4d31-affe-0b5079b060f6",
   "metadata": {},
   "outputs": [],
   "source": [
    "0 1 7 6 0 0 0"
   ]
  },
  {
   "cell_type": "code",
   "execution_count": null,
   "id": "42f7b9b7-281c-4674-9dd9-91d536391d6d",
   "metadata": {},
   "outputs": [],
   "source": [
    "1 0 9 0 0 3 0"
   ]
  },
  {
   "cell_type": "code",
   "execution_count": null,
   "id": "a35cdd15-4a8d-4e98-8b94-d83e49044dca",
   "metadata": {},
   "outputs": [],
   "source": [
    "7 9 0 0 0 0 1"
   ]
  },
  {
   "cell_type": "code",
   "execution_count": null,
   "id": "e794de6b-dd59-433e-b4af-df24a07d6f18",
   "metadata": {},
   "outputs": [],
   "source": [
    "6 0 0 0 2 0 0"
   ]
  },
  {
   "cell_type": "code",
   "execution_count": null,
   "id": "b2573150-5f1c-4f43-8ccd-20bf133f3bab",
   "metadata": {},
   "outputs": [],
   "source": [
    "0 0 0 2 0 0 0"
   ]
  },
  {
   "cell_type": "code",
   "execution_count": null,
   "id": "94eb14b3-64c9-49ad-819a-3549be503be6",
   "metadata": {},
   "outputs": [],
   "source": [
    "0 3 0 0 0 0 3"
   ]
  },
  {
   "cell_type": "code",
   "execution_count": null,
   "id": "b9efb4ec-4f99-4b6a-96fc-452ecab3d2d7",
   "metadata": {},
   "outputs": [],
   "source": [
    "0 0 0 0 5 3 0"
   ]
  },
  {
   "cell_type": "code",
   "execution_count": null,
   "id": "8140402f-1989-48fe-9056-e7b9488113cc",
   "metadata": {},
   "outputs": [],
   "source": [
    "Москва"
   ]
  },
  {
   "cell_type": "code",
   "execution_count": null,
   "id": "25cbc834-29ae-4408-bd21-cf1c1f990363",
   "metadata": {},
   "outputs": [],
   "source": [
    "Бишкек"
   ]
  },
  {
   "cell_type": "code",
   "execution_count": null,
   "id": "9493bf3f-790e-43b1-9222-1be07131b00e",
   "metadata": {},
   "outputs": [],
   "source": [
    "Киев"
   ]
  },
  {
   "cell_type": "code",
   "execution_count": null,
   "id": "415095b5-65ca-4f11-8a17-eea9a219aaa2",
   "metadata": {},
   "outputs": [],
   "source": [
    "Берлин"
   ]
  },
  {
   "cell_type": "code",
   "execution_count": null,
   "id": "c44a0f34-e941-4b14-a96f-0d3e76883593",
   "metadata": {},
   "outputs": [],
   "source": [
    "Париж"
   ]
  },
  {
   "cell_type": "code",
   "execution_count": null,
   "id": "c7b74ecd-852d-48c3-95d9-8be407652c7a",
   "metadata": {},
   "outputs": [],
   "source": [
    "Вашингтон"
   ]
  },
  {
   "cell_type": "code",
   "execution_count": null,
   "id": "93dce389-101b-4747-8fd6-482e24453f7f",
   "metadata": {},
   "outputs": [],
   "source": [
    "Ташкент"
   ]
  },
  {
   "cell_type": "code",
   "execution_count": null,
   "id": "2cdedf0a-2d40-44b8-8690-399b08564332",
   "metadata": {},
   "outputs": [],
   "source": []
  },
  {
   "cell_type": "code",
   "execution_count": null,
   "id": "b05af211-0c32-4ac4-9773-b4491b9e4965",
   "metadata": {},
   "outputs": [],
   "source": []
  }
 ],
 "metadata": {
  "kernelspec": {
   "display_name": "Python 3 (ipykernel)",
   "language": "python",
   "name": "python3"
  },
  "language_info": {
   "codemirror_mode": {
    "name": "ipython",
    "version": 3
   },
   "file_extension": ".py",
   "mimetype": "text/x-python",
   "name": "python",
   "nbconvert_exporter": "python",
   "pygments_lexer": "ipython3",
   "version": "3.12.5"
  }
 },
 "nbformat": 4,
 "nbformat_minor": 5
}
